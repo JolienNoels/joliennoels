{
  "cells": [
    {
      "cell_type": "raw",
      "metadata": {},
      "source": [
        "---\n",
        "title: \"Jolien Noels\"\n",
        "image: assets/imgs/profile.jpg\n",
        "about:\n",
        "  template: trestles\n",
        "  image-width: 14em\n",
        "  image-shape: rounded\n",
        "  links:\n",
        "    - icon: linkedin\n",
        "      href: https://www.linkedin.com/in/jolien-noels/\n",
        "    - icon: github\n",
        "      href: https://github.com/JolienNoels\n",
        "    - icon: twitter\n",
        "      href: https://twitter.com/joliennoels\n",
        "---"
      ],
      "id": "cfb8b5b9"
    },
    {
      "cell_type": "markdown",
      "metadata": {},
      "source": [
        "I am an economist working at the intersection of finance, economics, and climate change. I analyse and visualize data using R.\n",
        "\n",
        "Currently, I am working for the [OECD](https://www.oecd.org/). My research and policy work focuses on aligning finance with climate policy goals under the OECD's [Research Collaborative on Tracking Finance for Climate Action](https://www.oecd.org/env/researchcollaborative/) (please find a summary of our work [here](https://www.oecd.org/climate-change/oecd-research-collaborative-finance-climate-action-brochure.pdf)). At the OECD, I have also researched the impacts of the net-zero transition on firms, cities and rural regions.\n",
        "\n",
        "Previously, I worked for the [Transition Pathway Initiative](https://www.transitionpathwayinitiative.org/) (at the LSE's [GRI](https://www.lse.ac.uk/granthaminstitute/)) analysing companies' preparedness to transition to a low carbon economy. [Investors use this research as a tool for climate action.](https://www.climateaction100.org/progress/progress-update/)\n",
        "\n",
        "\n",
        "```{html}\n",
        "<div class=\"content-box\">\n",
        "  <h2>Project Title</h2>\n",
        "  <p>Description of the project goes here.</p>\n",
        "  <img src=\"project-image.jpg\" alt=\"Project Image\">\n",
        "</div>\n",
        "```\n",
        "\n",
        "```{css}\n",
        "<style>\n",
        ".content-box {\n",
        "  border: 1px solid #ccc;\n",
        "  padding: 15px;\n",
        "  margin: 10px;\n",
        "  text-align: center;\n",
        "}\n",
        "\n",
        ".content-box img {\n",
        "  max-width: 100%;\n",
        "  height: auto;\n",
        "}\n",
        "</style>\n",
        "```"
      ],
      "id": "2681e07a"
    }
  ],
  "metadata": {
    "kernelspec": {
      "display_name": "Python 3",
      "language": "python",
      "name": "python3"
    }
  },
  "nbformat": 4,
  "nbformat_minor": 5
}